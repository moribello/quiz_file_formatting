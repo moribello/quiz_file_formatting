{
 "cells": [
  {
   "cell_type": "code",
   "execution_count": 23,
   "metadata": {},
   "outputs": [],
   "source": [
    "import pandas as pd\n",
    "import numpy as np"
   ]
  },
  {
   "cell_type": "code",
   "execution_count": 39,
   "metadata": {},
   "outputs": [
    {
     "name": "stdout",
     "output_type": "stream",
     "text": [
      "How many questions are in this quiz? \n",
      "20\n"
     ]
    }
   ],
   "source": [
    "file_input = open(\"testQuiz02\",'r')\n",
    "array = np.array(file_input.readlines())\n",
    "rows = int(input(\"How many questions are in this quiz? \\n\"))\n",
    "newarray = np.resize(array, (rows,6))"
   ]
  },
  {
   "cell_type": "code",
   "execution_count": 40,
   "metadata": {},
   "outputs": [],
   "source": [
    "for row in range(rows):\n",
    "    line = 0\n",
    "    letters = [\"\", \"A. \", \"B. \", \"C. \", \"D. \", \"\"]\n",
    "    for letter in letters:\n",
    "        dummystring = letter + newarray[row, line]\n",
    "        newarray[row, line] = dummystring\n",
    "        line +=1"
   ]
  },
  {
   "cell_type": "code",
   "execution_count": 41,
   "metadata": {},
   "outputs": [
    {
     "data": {
      "text/plain": [
       "array([['How far out should a collapse zone be established for this building?\\n',\n",
       "        'A. 45 feet\\n', 'B. 90 feet\\n', 'C. 135 feet\\n', 'D. 180 feet\\n',\n",
       "        '\\n'],\n",
       "       ['Collapse zones should be established when:\\n',\n",
       "        'A. Fire has been limited to a single room and contents\\n',\n",
       "        'B. Overhaul finds hidden pockets of fire\\n',\n",
       "        'C. A defensive strategy has been adopted\\n',\n",
       "        'D. A second alarm is struck\\n',\n",
       "        'How far out should a collapse zone be established for this building?\\n'],\n",
       "       ['45 feet\\n', 'A. 90 feet\\n', 'B. 135 feet\\n', 'C. 180 feet\\n',\n",
       "        'D. \\n', 'Collapse zones should be established when:\\n'],\n",
       "       ['Fire has been limited to a single room and contents\\n',\n",
       "        'A. Overhaul finds hidden pockets of fire\\n',\n",
       "        'B. A defensive strategy has been adopted\\n',\n",
       "        'C. A second alarm is struck\\n',\n",
       "        'D. How far out should a collapse zone be established for this buildin',\n",
       "        '45 feet\\n'],\n",
       "       ['90 feet\\n', 'A. 135 feet\\n', 'B. 180 feet\\n', 'C. \\n',\n",
       "        'D. Collapse zones should be established when:\\n',\n",
       "        'Fire has been limited to a single room and contents\\n'],\n",
       "       ['Overhaul finds hidden pockets of fire\\n',\n",
       "        'A. A defensive strategy has been adopted\\n',\n",
       "        'B. A second alarm is struck\\n',\n",
       "        'C. How far out should a collapse zone be established for this buildin',\n",
       "        'D. 45 feet\\n', '90 feet\\n'],\n",
       "       ['135 feet\\n', 'A. 180 feet\\n', 'B. \\n',\n",
       "        'C. Collapse zones should be established when:\\n',\n",
       "        'D. Fire has been limited to a single room and contents\\n',\n",
       "        'Overhaul finds hidden pockets of fire\\n'],\n",
       "       ['A defensive strategy has been adopted\\n',\n",
       "        'A. A second alarm is struck\\n',\n",
       "        'B. How far out should a collapse zone be established for this buildin',\n",
       "        'C. 45 feet\\n', 'D. 90 feet\\n', '135 feet\\n'],\n",
       "       ['180 feet\\n', 'A. \\n',\n",
       "        'B. Collapse zones should be established when:\\n',\n",
       "        'C. Fire has been limited to a single room and contents\\n',\n",
       "        'D. Overhaul finds hidden pockets of fire\\n',\n",
       "        'A defensive strategy has been adopted\\n'],\n",
       "       ['A second alarm is struck\\n',\n",
       "        'A. How far out should a collapse zone be established for this buildin',\n",
       "        'B. 45 feet\\n', 'C. 90 feet\\n', 'D. 135 feet\\n', '180 feet\\n'],\n",
       "       ['\\n', 'A. Collapse zones should be established when:\\n',\n",
       "        'B. Fire has been limited to a single room and contents\\n',\n",
       "        'C. Overhaul finds hidden pockets of fire\\n',\n",
       "        'D. A defensive strategy has been adopted\\n',\n",
       "        'A second alarm is struck\\n'],\n",
       "       ['How far out should a collapse zone be established for this building?\\n',\n",
       "        'A. 45 feet\\n', 'B. 90 feet\\n', 'C. 135 feet\\n', 'D. 180 feet\\n',\n",
       "        '\\n'],\n",
       "       ['Collapse zones should be established when:\\n',\n",
       "        'A. Fire has been limited to a single room and contents\\n',\n",
       "        'B. Overhaul finds hidden pockets of fire\\n',\n",
       "        'C. A defensive strategy has been adopted\\n',\n",
       "        'D. A second alarm is struck\\n',\n",
       "        'How far out should a collapse zone be established for this building?\\n'],\n",
       "       ['45 feet\\n', 'A. 90 feet\\n', 'B. 135 feet\\n', 'C. 180 feet\\n',\n",
       "        'D. \\n', 'Collapse zones should be established when:\\n'],\n",
       "       ['Fire has been limited to a single room and contents\\n',\n",
       "        'A. Overhaul finds hidden pockets of fire\\n',\n",
       "        'B. A defensive strategy has been adopted\\n',\n",
       "        'C. A second alarm is struck\\n',\n",
       "        'D. How far out should a collapse zone be established for this buildin',\n",
       "        '45 feet\\n'],\n",
       "       ['90 feet\\n', 'A. 135 feet\\n', 'B. 180 feet\\n', 'C. \\n',\n",
       "        'D. Collapse zones should be established when:\\n',\n",
       "        'Fire has been limited to a single room and contents\\n'],\n",
       "       ['Overhaul finds hidden pockets of fire\\n',\n",
       "        'A. A defensive strategy has been adopted\\n',\n",
       "        'B. A second alarm is struck\\n',\n",
       "        'C. How far out should a collapse zone be established for this buildin',\n",
       "        'D. 45 feet\\n', '90 feet\\n'],\n",
       "       ['135 feet\\n', 'A. 180 feet\\n', 'B. \\n',\n",
       "        'C. Collapse zones should be established when:\\n',\n",
       "        'D. Fire has been limited to a single room and contents\\n',\n",
       "        'Overhaul finds hidden pockets of fire\\n'],\n",
       "       ['A defensive strategy has been adopted\\n',\n",
       "        'A. A second alarm is struck\\n',\n",
       "        'B. How far out should a collapse zone be established for this buildin',\n",
       "        'C. 45 feet\\n', 'D. 90 feet\\n', '135 feet\\n'],\n",
       "       ['180 feet\\n', 'A. \\n',\n",
       "        'B. Collapse zones should be established when:\\n',\n",
       "        'C. Fire has been limited to a single room and contents\\n',\n",
       "        'D. Overhaul finds hidden pockets of fire\\n',\n",
       "        'A defensive strategy has been adopted\\n']], dtype='<U69')"
      ]
     },
     "execution_count": 41,
     "metadata": {},
     "output_type": "execute_result"
    }
   ],
   "source": [
    "newarray"
   ]
  },
  {
   "cell_type": "code",
   "execution_count": null,
   "metadata": {},
   "outputs": [],
   "source": []
  }
 ],
 "metadata": {
  "kernelspec": {
   "display_name": "Python 3",
   "language": "python",
   "name": "python3"
  },
  "language_info": {
   "codemirror_mode": {
    "name": "ipython",
    "version": 3
   },
   "file_extension": ".py",
   "mimetype": "text/x-python",
   "name": "python",
   "nbconvert_exporter": "python",
   "pygments_lexer": "ipython3",
   "version": "3.7.6"
  }
 },
 "nbformat": 4,
 "nbformat_minor": 4
}
