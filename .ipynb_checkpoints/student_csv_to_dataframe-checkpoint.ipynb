{
 "cells": [
  {
   "cell_type": "code",
   "execution_count": 2,
   "metadata": {},
   "outputs": [],
   "source": [
    "import pandas as pd\n",
    "import numpy as np"
   ]
  },
  {
   "cell_type": "code",
   "execution_count": 13,
   "metadata": {},
   "outputs": [
    {
     "data": {
      "text/html": [
       "<div>\n",
       "<style scoped>\n",
       "    .dataframe tbody tr th:only-of-type {\n",
       "        vertical-align: middle;\n",
       "    }\n",
       "\n",
       "    .dataframe tbody tr th {\n",
       "        vertical-align: top;\n",
       "    }\n",
       "\n",
       "    .dataframe thead th {\n",
       "        text-align: right;\n",
       "    }\n",
       "</style>\n",
       "<table border=\"1\" class=\"dataframe\">\n",
       "  <thead>\n",
       "    <tr style=\"text-align: right;\">\n",
       "      <th></th>\n",
       "      <th>username</th>\n",
       "      <th>firstname</th>\n",
       "      <th>lastname</th>\n",
       "      <th>email</th>\n",
       "    </tr>\n",
       "  </thead>\n",
       "  <tbody>\n",
       "    <tr>\n",
       "      <th>0</th>\n",
       "      <td>NaN</td>\n",
       "      <td>Christian</td>\n",
       "      <td>Cunha</td>\n",
       "      <td>chris.acunha@Yahoo.com</td>\n",
       "    </tr>\n",
       "    <tr>\n",
       "      <th>1</th>\n",
       "      <td>NaN</td>\n",
       "      <td>Brett</td>\n",
       "      <td>Lowder</td>\n",
       "      <td>blowder66@gmail.com</td>\n",
       "    </tr>\n",
       "    <tr>\n",
       "      <th>2</th>\n",
       "      <td>NaN</td>\n",
       "      <td>Emily</td>\n",
       "      <td>Masse</td>\n",
       "      <td>emasse20@Yahoo.com</td>\n",
       "    </tr>\n",
       "    <tr>\n",
       "      <th>3</th>\n",
       "      <td>NaN</td>\n",
       "      <td>Andrew</td>\n",
       "      <td>Sarnevitz</td>\n",
       "      <td>asarnevitz@gmail.com</td>\n",
       "    </tr>\n",
       "    <tr>\n",
       "      <th>4</th>\n",
       "      <td>NaN</td>\n",
       "      <td>Mark</td>\n",
       "      <td>Sweitzer</td>\n",
       "      <td>msweitzeriv@Yahoo.com</td>\n",
       "    </tr>\n",
       "    <tr>\n",
       "      <th>5</th>\n",
       "      <td>NaN</td>\n",
       "      <td>Dan</td>\n",
       "      <td>Blount</td>\n",
       "      <td>dblount70@gmail.com</td>\n",
       "    </tr>\n",
       "    <tr>\n",
       "      <th>6</th>\n",
       "      <td>NaN</td>\n",
       "      <td>Christopher</td>\n",
       "      <td>Mahatcek</td>\n",
       "      <td>cmahatcek678@g.rwu.edu</td>\n",
       "    </tr>\n",
       "  </tbody>\n",
       "</table>\n",
       "</div>"
      ],
      "text/plain": [
       "   username    firstname   lastname                   email\n",
       "0       NaN    Christian      Cunha  chris.acunha@Yahoo.com\n",
       "1       NaN        Brett     Lowder     blowder66@gmail.com\n",
       "2       NaN       Emily       Masse      emasse20@Yahoo.com\n",
       "3       NaN       Andrew  Sarnevitz    asarnevitz@gmail.com\n",
       "4       NaN         Mark   Sweitzer   msweitzeriv@Yahoo.com\n",
       "5       NaN          Dan     Blount     dblount70@gmail.com\n",
       "6       NaN  Christopher   Mahatcek  cmahatcek678@g.rwu.edu"
      ]
     },
     "execution_count": 13,
     "metadata": {},
     "output_type": "execute_result"
    }
   ],
   "source": [
    "df = pd.read_csv('studentlist01.csv')\n",
    "df"
   ]
  },
  {
   "cell_type": "code",
   "execution_count": 17,
   "metadata": {
    "scrolled": true
   },
   "outputs": [],
   "source": [
    "for i in df.index:\n",
    "    usrname = df.loc[i,'firstname'][0].lower() + df.loc[i,'lastname'].lower()\n",
    "    df.loc[i, 'username'] = usrname"
   ]
  },
  {
   "cell_type": "code",
   "execution_count": 18,
   "metadata": {},
   "outputs": [
    {
     "data": {
      "text/html": [
       "<div>\n",
       "<style scoped>\n",
       "    .dataframe tbody tr th:only-of-type {\n",
       "        vertical-align: middle;\n",
       "    }\n",
       "\n",
       "    .dataframe tbody tr th {\n",
       "        vertical-align: top;\n",
       "    }\n",
       "\n",
       "    .dataframe thead th {\n",
       "        text-align: right;\n",
       "    }\n",
       "</style>\n",
       "<table border=\"1\" class=\"dataframe\">\n",
       "  <thead>\n",
       "    <tr style=\"text-align: right;\">\n",
       "      <th></th>\n",
       "      <th>username</th>\n",
       "      <th>firstname</th>\n",
       "      <th>lastname</th>\n",
       "      <th>email</th>\n",
       "    </tr>\n",
       "  </thead>\n",
       "  <tbody>\n",
       "    <tr>\n",
       "      <th>0</th>\n",
       "      <td>ccunha</td>\n",
       "      <td>Christian</td>\n",
       "      <td>Cunha</td>\n",
       "      <td>chris.acunha@Yahoo.com</td>\n",
       "    </tr>\n",
       "    <tr>\n",
       "      <th>1</th>\n",
       "      <td>blowder</td>\n",
       "      <td>Brett</td>\n",
       "      <td>Lowder</td>\n",
       "      <td>blowder66@gmail.com</td>\n",
       "    </tr>\n",
       "    <tr>\n",
       "      <th>2</th>\n",
       "      <td>emasse</td>\n",
       "      <td>Emily</td>\n",
       "      <td>Masse</td>\n",
       "      <td>emasse20@Yahoo.com</td>\n",
       "    </tr>\n",
       "    <tr>\n",
       "      <th>3</th>\n",
       "      <td>asarnevitz</td>\n",
       "      <td>Andrew</td>\n",
       "      <td>Sarnevitz</td>\n",
       "      <td>asarnevitz@gmail.com</td>\n",
       "    </tr>\n",
       "    <tr>\n",
       "      <th>4</th>\n",
       "      <td>msweitzer</td>\n",
       "      <td>Mark</td>\n",
       "      <td>Sweitzer</td>\n",
       "      <td>msweitzeriv@Yahoo.com</td>\n",
       "    </tr>\n",
       "    <tr>\n",
       "      <th>5</th>\n",
       "      <td>dblount</td>\n",
       "      <td>Dan</td>\n",
       "      <td>Blount</td>\n",
       "      <td>dblount70@gmail.com</td>\n",
       "    </tr>\n",
       "    <tr>\n",
       "      <th>6</th>\n",
       "      <td>cmahatcek</td>\n",
       "      <td>Christopher</td>\n",
       "      <td>Mahatcek</td>\n",
       "      <td>cmahatcek678@g.rwu.edu</td>\n",
       "    </tr>\n",
       "  </tbody>\n",
       "</table>\n",
       "</div>"
      ],
      "text/plain": [
       "     username    firstname   lastname                   email\n",
       "0      ccunha    Christian      Cunha  chris.acunha@Yahoo.com\n",
       "1     blowder        Brett     Lowder     blowder66@gmail.com\n",
       "2      emasse       Emily       Masse      emasse20@Yahoo.com\n",
       "3  asarnevitz       Andrew  Sarnevitz    asarnevitz@gmail.com\n",
       "4   msweitzer         Mark   Sweitzer   msweitzeriv@Yahoo.com\n",
       "5     dblount          Dan     Blount     dblount70@gmail.com\n",
       "6   cmahatcek  Christopher   Mahatcek  cmahatcek678@g.rwu.edu"
      ]
     },
     "execution_count": 18,
     "metadata": {},
     "output_type": "execute_result"
    }
   ],
   "source": [
    "df"
   ]
  },
  {
   "cell_type": "code",
   "execution_count": 193,
   "metadata": {},
   "outputs": [],
   "source": [
    "text_array = df.to_numpy()\n",
    "np.savetxt('chapter19_corrected.txt', text_array, delimiter=\" \", fmt=\"%s\")"
   ]
  },
  {
   "cell_type": "code",
   "execution_count": null,
   "metadata": {},
   "outputs": [],
   "source": []
  }
 ],
 "metadata": {
  "kernelspec": {
   "display_name": "Python 3",
   "language": "python",
   "name": "python3"
  },
  "language_info": {
   "codemirror_mode": {
    "name": "ipython",
    "version": 3
   },
   "file_extension": ".py",
   "mimetype": "text/x-python",
   "name": "python",
   "nbconvert_exporter": "python",
   "pygments_lexer": "ipython3",
   "version": "3.7.6"
  }
 },
 "nbformat": 4,
 "nbformat_minor": 4
}
